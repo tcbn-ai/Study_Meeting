{
 "cells": [
  {
   "cell_type": "code",
   "execution_count": 1,
   "metadata": {},
   "outputs": [],
   "source": [
    "import nashpy as nash\n",
    "import numpy as np"
   ]
  },
  {
   "cell_type": "code",
   "execution_count": 2,
   "metadata": {},
   "outputs": [
    {
     "data": {
      "text/plain": [
       "Zero sum game with payoff matrices:\n",
       "\n",
       "Row player:\n",
       "[[ 0  1 -1]\n",
       " [-1  0  1]\n",
       " [ 1 -1  0]]\n",
       "\n",
       "Column player:\n",
       "[[ 0 -1  1]\n",
       " [ 1  0 -1]\n",
       " [-1  1  0]]"
      ]
     },
     "execution_count": 2,
     "metadata": {},
     "output_type": "execute_result"
    }
   ],
   "source": [
    "A = np.array([[0, 1, -1],\n",
    "              [-1, 0, 1],\n",
    "              [1, -1, 0]])\n",
    "B = np.array([[0, -1, 1],\n",
    "              [1, 0, -1],\n",
    "              [-1, 1, 0]])\n",
    "coordination_game = nash.Game(A, B)\n",
    "coordination_game"
   ]
  },
  {
   "cell_type": "code",
   "execution_count": 3,
   "metadata": {},
   "outputs": [
    {
     "name": "stdout",
     "output_type": "stream",
     "text": [
      "(array([0.33333333, 0.33333333, 0.33333333]), array([0.33333333, 0.33333333, 0.33333333]))\n"
     ]
    }
   ],
   "source": [
    "equilibria = coordination_game.vertex_enumeration()\n",
    "for eq in equilibria:\n",
    "    print(eq)"
   ]
  }
 ],
 "metadata": {
  "kernelspec": {
   "display_name": "Python 3.10.5 ('game_numerical')",
   "language": "python",
   "name": "python3"
  },
  "language_info": {
   "codemirror_mode": {
    "name": "ipython",
    "version": 3
   },
   "file_extension": ".py",
   "mimetype": "text/x-python",
   "name": "python",
   "nbconvert_exporter": "python",
   "pygments_lexer": "ipython3",
   "version": "3.10.5"
  },
  "orig_nbformat": 4,
  "vscode": {
   "interpreter": {
    "hash": "354cba07ba0595485917ce7d9dd63f8c05083a7c4ab205a7b94fd82fdfff075d"
   }
  }
 },
 "nbformat": 4,
 "nbformat_minor": 2
}
