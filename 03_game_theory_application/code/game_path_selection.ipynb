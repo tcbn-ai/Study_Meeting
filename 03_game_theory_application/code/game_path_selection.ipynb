{
 "cells": [
  {
   "cell_type": "code",
   "execution_count": 1,
   "metadata": {},
   "outputs": [],
   "source": [
    "import nashpy as nash \n",
    "import numpy as np "
   ]
  },
  {
   "cell_type": "code",
   "execution_count": 2,
   "metadata": {},
   "outputs": [
    {
     "data": {
      "text/plain": [
       "Bi matrix game with payoff matrices:\n",
       "\n",
       "Row player:\n",
       "[[ 1.5   1.    0.25 -0.75]\n",
       " [ 1.5   1.25  0.75  0.  ]\n",
       " [ 1.65  1.15  0.15 -0.35]]\n",
       "\n",
       "Column player:\n",
       "[[ 0.    0.25  0.5   0.25]\n",
       " [ 0.    0.    0.   -0.5 ]\n",
       " [ 0.    0.25  0.75  0.  ]]"
      ]
     },
     "execution_count": 2,
     "metadata": {},
     "output_type": "execute_result"
    }
   ],
   "source": [
    "M_A = np.array([[1.5, 1.0, 0.25, -0.75],\n",
    "                [1.5, 1.25, 0.75, 0],\n",
    "                [1.65, 1.15, 0.15, -0.35]])\n",
    "\n",
    "M_B = np.array([[0, 0.25, 0.5, 0.25],\n",
    "                [0, 0, 0, -0.5],\n",
    "                [0, 0.25, 0.75, 0]])\n",
    "\n",
    "game_selection = nash.Game(M_A, M_B)\n",
    "game_selection"
   ]
  },
  {
   "cell_type": "code",
   "execution_count": 3,
   "metadata": {},
   "outputs": [
    {
     "name": "stdout",
     "output_type": "stream",
     "text": [
      "(array([0., 1., 0.]), array([2.08166817e-17, 0.00000000e+00, 1.00000000e+00, 0.00000000e+00]))\n",
      "(array([0., 1., 0.]), array([-2.77555756e-17,  1.00000000e+00, -5.55111512e-17,  0.00000000e+00]))\n",
      "(array([0., 1., 0.]), array([0.8, 0. , 0.2, 0. ]))\n",
      "(array([0., 1., 0.]), array([ 4.00000000e-01,  6.00000000e-01,  0.00000000e+00, -5.82867088e-17]))\n"
     ]
    }
   ],
   "source": [
    "equilibria = game_selection.vertex_enumeration()\n",
    "for eq in equilibria:\n",
    "    print(eq)"
   ]
  }
 ],
 "metadata": {
  "kernelspec": {
   "display_name": "Python 3.10.6 64-bit",
   "language": "python",
   "name": "python3"
  },
  "language_info": {
   "codemirror_mode": {
    "name": "ipython",
    "version": 3
   },
   "file_extension": ".py",
   "mimetype": "text/x-python",
   "name": "python",
   "nbconvert_exporter": "python",
   "pygments_lexer": "ipython3",
   "version": "3.10.6"
  },
  "orig_nbformat": 4,
  "vscode": {
   "interpreter": {
    "hash": "949777d72b0d2535278d3dc13498b2535136f6dfe0678499012e853ee9abcab1"
   }
  }
 },
 "nbformat": 4,
 "nbformat_minor": 2
}
